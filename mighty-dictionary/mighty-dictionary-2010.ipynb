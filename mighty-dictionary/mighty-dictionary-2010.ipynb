{
 "cells": [
  {
   "cell_type": "markdown",
   "metadata": {},
   "source": [
    "### Python lists are capable of accessing each one of their list items with almost equal speed.\n"
   ]
  },
  {
   "cell_type": "code",
   "execution_count": 1,
   "metadata": {},
   "outputs": [
    {
     "name": "stdout",
     "output_type": "stream",
     "text": [
      "4.19 ns ± 0.0717 ns per loop (mean ± std. dev. of 7 runs, 100,000,000 loops each)\n"
     ]
    }
   ],
   "source": [
    "timeit('mylist[0]', 'mylist = [1] * 9000')"
   ]
  },
  {
   "cell_type": "code",
   "execution_count": 2,
   "metadata": {},
   "outputs": [
    {
     "name": "stdout",
     "output_type": "stream",
     "text": [
      "4.16 ns ± 0.0482 ns per loop (mean ± std. dev. of 7 runs, 100,000,000 loops each)\n"
     ]
    }
   ],
   "source": [
    "timeit('mylist[7000]', 'mylist = [1] * 9000')"
   ]
  },
  {
   "cell_type": "markdown",
   "metadata": {},
   "source": [
    "## This is because Python lists use segments of RAM. RAM acts like a Python list.\n",
    "\n",
    "### RAM is a vast array \n",
    "### Addressed by sequential integers - the first address is zero.\n",
    "### Easy to implement a list atop memory\n"
   ]
  },
  {
   "cell_type": "markdown",
   "metadata": {},
   "source": [
    "# Dictionaries"
   ]
  },
  {
   "cell_type": "markdown",
   "metadata": {},
   "source": [
    "## How do they differ from lists?\n",
    "\n",
    "## Dictionaries use keys instead of indexes and these keys can be almost anything!"
   ]
  },
  {
   "cell_type": "code",
   "execution_count": 6,
   "metadata": {},
   "outputs": [],
   "source": [
    "d = {\n",
    "    'Brandon': 3.5,\n",
    "    3.1415: 'pi',\n",
    "    'flickr.com': '68.142.214.24',\n",
    "    (2, 6, 4): 'Python version',\n",
    "}\n",
    "\n",
    "# here, we see string, floating point and tuple keys in this dictionary!"
   ]
  },
  {
   "cell_type": "markdown",
   "metadata": {},
   "source": [
    "# How can we turn the keys dictionaries use into indexes that reach memory quickly?\n",
    "\n",
    "## Three Rules:\n",
    "\n",
    "## First, a dictionary is really a list. (Hash Table Implementation)\n",
    "\n",
    "## Second, Keys are hashed to produce indexes.\n",
    "\n",
    "## Third, if you don't succeed in the first try, try again.\n",
    "\n",
    "### A hash is a mathematical algorithm that gets a string like \"Monty\" or a number like 3.14 or a tuple (basically anything) and reduces it to 32 bits of 1s and 0s.\n",
    "\n",
    "### It does it in such a way that scatters the original information that is present in the data across the 1s and 0s."
   ]
  },
  {
   "cell_type": "code",
   "execution_count": 10,
   "metadata": {},
   "outputs": [],
   "source": [
    "# Function to generate the bits of a given input\n",
    "\n",
    "def bits(n):\n",
    "\n",
    "    n += 2**32\n",
    "\n",
    "    return bin(n)[-32:]"
   ]
  },
  {
   "cell_type": "code",
   "execution_count": 11,
   "metadata": {},
   "outputs": [
    {
     "name": "stdout",
     "output_type": "stream",
     "text": [
      "11111011011110110001101110110111 Monty\n",
      "00001100010010011011110000000011 3.1415\n",
      "00001010001000011010011010111101 (2, 6, 4)\n"
     ]
    }
   ],
   "source": [
    "# Illustrating Python's builtin hashing in action via the hash() function\n",
    "\n",
    "for key in 'Monty', 3.1415, (2,6,4):\n",
    "\n",
    "    print(bits(hash(key)), key)"
   ]
  },
  {
   "cell_type": "code",
   "execution_count": 12,
   "metadata": {},
   "outputs": [
    {
     "name": "stdout",
     "output_type": "stream",
     "text": [
      "11111011011110110001101110110111\n",
      "01000100011011111111010000010000\n",
      "^ ^^^^^^   ^ ^  ^^^ ^^^^^ ^  ^^^\n"
     ]
    }
   ],
   "source": [
    "# It does it in such a way that scatters the original information that is present in the data across the 1s and 0s.\n",
    "\n",
    "k1 = bits(hash('Monty'))\n",
    "k2 = bits(hash('Money'))\n",
    "\n",
    "diff = ('^ '[a == b] for a,b in zip(k1, k2))\n",
    "\n",
    "print(k1)\n",
    "print(k2)\n",
    "print(''.join(diff))"
   ]
  },
  {
   "cell_type": "markdown",
   "metadata": {},
   "source": [
    "## To build an index, Python uses the bottom n bits of the hash"
   ]
  },
  {
   "cell_type": "markdown",
   "metadata": {},
   "source": [
    "# Lookup is performed in the same way:\n",
    "\n",
    "## Compute the hash\n",
    "## Truncate it\n",
    "## Look in that slot"
   ]
  },
  {
   "cell_type": "markdown",
   "metadata": {},
   "source": []
  }
 ],
 "metadata": {
  "kernelspec": {
   "display_name": "Python 3",
   "language": "python",
   "name": "python3"
  },
  "language_info": {
   "codemirror_mode": {
    "name": "ipython",
    "version": 3
   },
   "file_extension": ".py",
   "mimetype": "text/x-python",
   "name": "python",
   "nbconvert_exporter": "python",
   "pygments_lexer": "ipython3",
   "version": "3.11.7"
  }
 },
 "nbformat": 4,
 "nbformat_minor": 2
}
