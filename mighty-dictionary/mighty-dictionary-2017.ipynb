{
 "cells": [
  {
   "cell_type": "markdown",
   "metadata": {},
   "source": [
    "# The Dictionary: Even Mightier\n",
    "\n",
    "## PyCon 2017"
   ]
  },
  {
   "cell_type": "markdown",
   "metadata": {},
   "source": [
    "## Dictionary Comprehensions (PEP 274)"
   ]
  },
  {
   "cell_type": "code",
   "execution_count": 1,
   "metadata": {},
   "outputs": [
    {
     "name": "stdout",
     "output_type": "stream",
     "text": [
      "[1, 4, 9, 16, 25, 36]\n"
     ]
    }
   ],
   "source": [
    "# List Comprehensions in Python\n",
    "\n",
    "# Been around since Python 2.0\n",
    "# Before, one had to always make an empty list and then append, append, append to it before finally producing a completed list\n",
    "# With LCs, one could put for loop logic inside of a list\n",
    "\n",
    "\n",
    "\n",
    "numbers = [1,2,3,4,5,6]\n",
    "\n",
    "numbers_squared = [n*n for n in numbers]\n",
    "\n",
    "print(numbers_squared)\n",
    "\n",
    "\n",
    "# This gave us a way to build dictionary comprehensions\n",
    "# But looked something like:\n",
    "dict([(n, n*n) for n in numbers])\n",
    "\n",
    "# it uses tuples? \n",
    "# slower since you need to throw the tuples out once they were added to the dictionary\n",
    "\n",
    "# Generator Expressions\n",
    "\n",
    "dict((n, n*n) for n in numbers)\n",
    "\n",
    "# didn't have to create the intermediate data structure (list in prev case)\n",
    "\n"
   ]
  },
  {
   "cell_type": "code",
   "execution_count": 5,
   "metadata": {},
   "outputs": [
    {
     "name": "stdout",
     "output_type": "stream",
     "text": [
      "[1, 4, 9, 16, 25, 36]\n",
      "{1: 1, 2: 4, 3: 9, 4: 16, 5: 25, 6: 36}\n"
     ]
    }
   ],
   "source": [
    "# dictionary comprehension\n",
    "\n",
    "print([n*n for n in numbers])\n",
    "\n",
    "print({n : n*n for n in numbers})\n",
    "\n",
    "# this is very symmetric; lets learners extrapolate since LCs look like [n*n for n in numbers]"
   ]
  },
  {
   "cell_type": "code",
   "execution_count": 10,
   "metadata": {},
   "outputs": [
    {
     "name": "stdout",
     "output_type": "stream",
     "text": [
      "<class 'dict_keys'>\n",
      "<class 'list'>\n"
     ]
    }
   ],
   "source": [
    "# Dictionary Views \n",
    "\n",
    "# d.keys()      vs  d.iterkeys()\n",
    "# d.values()    vs  d.itervalues()\n",
    "# d.items()     vs  d.iteritems()\n",
    "\n",
    "sample_dict = {n: n*n for n in numbers}\n",
    "\n",
    "print(type(sample_dict.keys()))         # dict_keys\n",
    "print(type(list(sample_dict.keys())))   # list\n",
    "\n",
    "# sample_dict.keys() is not a list\n",
    "# sample_dict.values() is not a list\n",
    "\n",
    "# If one was to check for membership \n",
    "# whether something is present in the keys or values?\n",
    "\n",
    "# is_present in d.keys() ?\n",
    "\n",
    "\n",
    "# Previously, it was not possible to do this without creating a list of the keys/values and then looping over them to check\n",
    "\n",
    "# implement __contains__() for keys, values, items?\n",
    "\n"
   ]
  },
  {
   "cell_type": "markdown",
   "metadata": {},
   "source": [
    "## Dictionary Views\n",
    "\n",
    "### d.keys()\n",
    "### d.values()\n",
    "### d.items()\n",
    "\n",
    "Returns views!"
   ]
  },
  {
   "cell_type": "markdown",
   "metadata": {},
   "source": []
  },
  {
   "cell_type": "markdown",
   "metadata": {},
   "source": [
    "# OrderedDict (PEP 372)"
   ]
  },
  {
   "cell_type": "markdown",
   "metadata": {},
   "source": [
    "* Preserves Insertion Order\n",
    "* Bigger, Slower"
   ]
  },
  {
   "cell_type": "markdown",
   "metadata": {},
   "source": [
    "# Key Sharing (PEP 412)\n",
    "\n",
    "## Python 3.3\n",
    "\n",
    "## Answers a question of space"
   ]
  },
  {
   "cell_type": "code",
   "execution_count": 11,
   "metadata": {},
   "outputs": [],
   "source": [
    "# Imagine a class that has this dunder method in its constructor\n",
    "\n",
    "def __init__(self, name, port, proto):\n",
    "\n",
    "    self.name = name\n",
    "    self.port = port \n",
    "    self.proto = proto\n",
    "\n",
    "# the dunder dict behind the object stores the values in each of these keys (attributes)"
   ]
  },
  {
   "cell_type": "code",
   "execution_count": null,
   "metadata": {},
   "outputs": [],
   "source": [
    "# all arrays are indexed in RAM by an integer index \n",
    "\n",
    "d = dict()\n",
    "\n",
    "# let's say we do this:\n",
    "\n",
    "d['name'] = 'ssh'       # in this case, the key by itself is not an integer"
   ]
  },
  {
   "cell_type": "markdown",
   "metadata": {},
   "source": [
    "### How do I find the place in memory that's named the string \"name\" ?\n",
    "\n",
    "### Hash tables get \"name\", and hash it into a bunch of 32 bits (64 bits on a 64 bit platform)\n",
    "\n",
    "### An empty dictionary by default has 8 slots \n",
    "\n",
    "### let's say, the hash of \"name\" is 01101010011000001011110000000100\n",
    "\n",
    "## we choose the last 3 bits \"100\", and write it in the \"100\" index of the hash table"
   ]
  },
  {
   "cell_type": "markdown",
   "metadata": {},
   "source": [
    "# let's now hash the key titled \"port\"\n",
    "# \"port\" has a hash of 01100100001100111010000000101101\n",
    "\n",
    "## we choose the last 3 bits \"101\" and write it in the \"101\" index of the hash table\n",
    "\n",
    "# hashing the key titled \"proto\"\n",
    "\n",
    "# \"proto\" has a hash of 00111010001001001100101001010100\n",
    "\n",
    "# Here, we notice that the last 3 bits \"100\" -> that index has already been taken - WE HAVE A COLLISION\n",
    "\n",
    "# some math is carried out and an emergency slot (in this case 001) is figured out and \"proto\" now resides in 001 index of the hash table\n",
    "\n",
    "# because of the collision, now lookup and reset has already become a little bit more expensive\n",
    "\n",
    "# every time you look for proto, you run into the collision and then find it sitting where you don't expect it to"
   ]
  },
  {
   "cell_type": "code",
   "execution_count": null,
   "metadata": {},
   "outputs": [],
   "source": []
  },
  {
   "cell_type": "markdown",
   "metadata": {},
   "source": []
  }
 ],
 "metadata": {
  "kernelspec": {
   "display_name": "Python 3",
   "language": "python",
   "name": "python3"
  },
  "language_info": {
   "codemirror_mode": {
    "name": "ipython",
    "version": 3
   },
   "file_extension": ".py",
   "mimetype": "text/x-python",
   "name": "python",
   "nbconvert_exporter": "python",
   "pygments_lexer": "ipython3",
   "version": "3.11.7"
  }
 },
 "nbformat": 4,
 "nbformat_minor": 2
}
